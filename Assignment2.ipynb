{
  "nbformat": 4,
  "nbformat_minor": 0,
  "metadata": {
    "colab": {
      "provenance": []
    },
    "kernelspec": {
      "name": "python3",
      "display_name": "Python 3"
    },
    "language_info": {
      "name": "python"
    }
  },
  "cells": [
    {
      "cell_type": "code",
      "source": [
        "# Question 1A\n",
        "\n",
        "def fullname(first_name, last_name):\n",
        "  full_name= first_name+\" \"+last_name\n",
        "  return full_name\n",
        "\n",
        "\n",
        "first_name = input(\"Enter your first name: \")\n",
        "last_name = input(\"Enter your last name: \")\n",
        "print(\"Your full name is: \",fullname(first_name,last_name))"
      ],
      "metadata": {
        "colab": {
          "base_uri": "https://localhost:8080/"
        },
        "id": "raEWL41y1be_",
        "outputId": "eeab67e6-23a4-46ec-d19c-65ea29ff2332"
      },
      "execution_count": 2,
      "outputs": [
        {
          "output_type": "stream",
          "name": "stdout",
          "text": [
            "Enter your first name: Naga\n",
            "Enter your last name: Vasu\n",
            "Your full name is:  Naga Vasu\n"
          ]
        }
      ]
    },
    {
      "cell_type": "code",
      "source": [
        "# Question 1B\n",
        "def fullname(first_name, last_name):\n",
        "  full_name= first_name+\" \"+last_name\n",
        "  return full_name\n",
        "\n",
        "class MyClass:\n",
        "    def string_alternative(self,full_name):\n",
        "       b = \"\";\n",
        "       c = 0;\n",
        "       for x in full_name:\n",
        "           if c==0:\n",
        "             b+=x\n",
        "             c = 1\n",
        "           else:\n",
        "             c = 0\n",
        "       return b\n",
        "\n",
        "def main():\n",
        "    # Creating an instance of MyClass\n",
        "    first_name = input(\"Enter your first name: \")\n",
        "    last_name = input(\"Enter your last name: \")\n",
        "\n",
        "    my_instance = MyClass()\n",
        "\n",
        "    # Calling the my_method of the instance\n",
        "    full_name=fullname(first_name,last_name)\n",
        "    print(my_instance.string_alternative(full_name))\n",
        "\n",
        "if __name__ == \"__main__\":\n",
        "    # Calling the main function when the script is executed\n",
        "    main()"
      ],
      "metadata": {
        "colab": {
          "base_uri": "https://localhost:8080/"
        },
        "id": "mHMeUqEq1koF",
        "outputId": "727327a8-ef65-4305-d65c-337e888304f4"
      },
      "execution_count": 3,
      "outputs": [
        {
          "output_type": "stream",
          "name": "stdout",
          "text": [
            "Enter your first name: Good\n",
            "Enter your last name: evening\n",
            "Go vnn\n"
          ]
        }
      ]
    },
    {
      "cell_type": "code",
      "source": [
        "# Question 2\n",
        "Input_file = open(\"input.txt\", \"r\")\n",
        "#Write the number of words count and split the data from input file\n",
        "output_file = open(\"output.txt\", \"w\")\n",
        "\n",
        "content = {}\n",
        "\n",
        "\n",
        "for line in Input_file:\n",
        "    output_file.write(line)\n",
        "    new_l = line.split()\n",
        "    for x in new_l:\n",
        "        if(content.get(x)==None):\n",
        "            content[x]=1\n",
        "        else:\n",
        "            content[x] = content[x] + 1\n",
        "\n",
        "output_file.write(\" Word_Count : \")\n",
        "for key, value in content.items():\n",
        "        output_file.write('%s:%s\\n' % (key, value))\n",
        "Input_file.close()\n",
        "output_file.close()"
      ],
      "metadata": {
        "colab": {
          "base_uri": "https://localhost:8080/",
          "height": 211
        },
        "id": "PFO8UHTb1vPy",
        "outputId": "6c9c943f-0b2d-4f9e-d52c-d11ec23f3582"
      },
      "execution_count": 4,
      "outputs": [
        {
          "output_type": "error",
          "ename": "FileNotFoundError",
          "evalue": "[Errno 2] No such file or directory: 'input.txt'",
          "traceback": [
            "\u001b[0;31m---------------------------------------------------------------------------\u001b[0m",
            "\u001b[0;31mFileNotFoundError\u001b[0m                         Traceback (most recent call last)",
            "\u001b[0;32m<ipython-input-4-85d777dde556>\u001b[0m in \u001b[0;36m<cell line: 2>\u001b[0;34m()\u001b[0m\n\u001b[1;32m      1\u001b[0m \u001b[0;31m# Question 2\u001b[0m\u001b[0;34m\u001b[0m\u001b[0;34m\u001b[0m\u001b[0m\n\u001b[0;32m----> 2\u001b[0;31m \u001b[0mInput_file\u001b[0m \u001b[0;34m=\u001b[0m \u001b[0mopen\u001b[0m\u001b[0;34m(\u001b[0m\u001b[0;34m\"input.txt\"\u001b[0m\u001b[0;34m,\u001b[0m \u001b[0;34m\"r\"\u001b[0m\u001b[0;34m)\u001b[0m\u001b[0;34m\u001b[0m\u001b[0;34m\u001b[0m\u001b[0m\n\u001b[0m\u001b[1;32m      3\u001b[0m \u001b[0;31m#Write the number of words count and split the data from input file\u001b[0m\u001b[0;34m\u001b[0m\u001b[0;34m\u001b[0m\u001b[0m\n\u001b[1;32m      4\u001b[0m \u001b[0moutput_file\u001b[0m \u001b[0;34m=\u001b[0m \u001b[0mopen\u001b[0m\u001b[0;34m(\u001b[0m\u001b[0;34m\"output.txt\"\u001b[0m\u001b[0;34m,\u001b[0m \u001b[0;34m\"w\"\u001b[0m\u001b[0;34m)\u001b[0m\u001b[0;34m\u001b[0m\u001b[0;34m\u001b[0m\u001b[0m\n\u001b[1;32m      5\u001b[0m \u001b[0;34m\u001b[0m\u001b[0m\n",
            "\u001b[0;31mFileNotFoundError\u001b[0m: [Errno 2] No such file or directory: 'input.txt'"
          ]
        }
      ]
    },
    {
      "cell_type": "code",
      "source": [
        "# Question 3\n",
        "def inchToCent(value):\n",
        "    return value*2.54\n",
        "\n",
        "heights = []\n",
        "maxLengthList =int(input(\"enter no of persons : \"))\n",
        "heights = []\n",
        "\n",
        "# Adding elements to the list in a loop\n",
        "for i in range(maxLengthList):\n",
        "    item = int(input(\"Enter the height of a person: \"))\n",
        "    heights.append(item)\n",
        "new_list = []\n",
        "\n",
        "for x in heights:\n",
        "    value = int(x)\n",
        "    new_list.append(inchToCent(value))\n",
        "\n",
        "print(\"show list : \",new_list)"
      ],
      "metadata": {
        "colab": {
          "base_uri": "https://localhost:8080/"
        },
        "id": "FamyMqnp2iqF",
        "outputId": "c5bfbe8d-9349-48b6-f40c-7746d7f693a3"
      },
      "execution_count": 7,
      "outputs": [
        {
          "output_type": "stream",
          "name": "stdout",
          "text": [
            "enter no of persons : 4\n",
            "Enter the height of a person: 150\n",
            "Enter the height of a person: 155\n",
            "Enter the height of a person: 145\n",
            "Enter the height of a person: 148\n",
            "show list :  [381.0, 393.7, 368.3, 375.92]\n"
          ]
        }
      ]
    }
  ]
}