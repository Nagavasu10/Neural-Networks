{
  "nbformat": 4,
  "nbformat_minor": 0,
  "metadata": {
    "colab": {
      "provenance": []
    },
    "kernelspec": {
      "name": "python3",
      "display_name": "Python 3"
    },
    "language_info": {
      "name": "python"
    }
  },
  "cells": [
    {
      "cell_type": "code",
      "source": [
        "#Question 1)A\n",
        "input_string = \"Python\"\n",
        "char_list = list(input_string)\n",
        "\n",
        "# Step 2: Delete at least 2 characters (removing the last two characters for simplicity)\n",
        "if len(char_list) >= 2:\n",
        "    del char_list[-2:]\n",
        "\n",
        "# Step 3: Reverse the resultant string\n",
        "char_list.reverse()\n",
        "\n",
        "# Step 4: Print the reversed string\n",
        "reversed_string = ''.join(char_list)\n",
        "print(reversed_string)"
      ],
      "metadata": {
        "colab": {
          "base_uri": "https://localhost:8080/"
        },
        "id": "sLMj0Eo2QAB0",
        "outputId": "dee11323-acdf-4598-8804-d75bbeb5dc3c"
      },
      "execution_count": 12,
      "outputs": [
        {
          "output_type": "stream",
          "name": "stdout",
          "text": [
            "htyP\n"
          ]
        }
      ]
    },
    {
      "cell_type": "code",
      "source": [
        "#Question 1)B.\n",
        "\n",
        "# Taking two numbers as input from user.\n",
        "first_number = float(input(\"Enter first number: \"))\n",
        "second_number = float(input(\"Enter second number: \"))\n",
        "\n",
        "# Performing arithematic operations and displaying the results.\n",
        "print(\"Addition: \", first_number+second_number)\n",
        "print(\"Multiplication: \", first_number*second_number)\n",
        "print(\"Substraction: \", first_number-second_number)\n",
        "print(\"Division: \", first_number/second_number)"
      ],
      "metadata": {
        "colab": {
          "base_uri": "https://localhost:8080/"
        },
        "id": "C4bZEoRiQXv4",
        "outputId": "1455b642-d556-47da-8f6a-ec994633d8fa"
      },
      "execution_count": 13,
      "outputs": [
        {
          "output_type": "stream",
          "name": "stdout",
          "text": [
            "Enter first number: 2\n",
            "Enter second number: 11\n",
            "Addition:  13.0\n",
            "Multiplication:  22.0\n",
            "Substraction:  -9.0\n",
            "Division:  0.18181818181818182\n"
          ]
        }
      ]
    },
    {
      "cell_type": "code",
      "source": [
        "#Question 2.\n",
        "# Get input sentence from the user.\n",
        "input_str = input(\"Please enter the sentence: \")\n",
        "\n",
        "# Split method is used to convert the input sentence into array of strings\n",
        "array_of_strings = input_str.split()\n",
        "\n",
        "# Initialization of empty string.\n",
        "output_str = \"\"\n",
        "\n",
        "# For loop is used to iterate over the array of strings\n",
        "for i in range(0,len(array_of_strings)):\n",
        "     # To check if the word `python` is or not.\n",
        "    if(array_of_strings[i]==\"python\"):\n",
        "        # To replace `python` with `pythons`.\n",
        "        array_of_strings[i]=\"pythons\"\n",
        "\n",
        "     # Append the current word to the output string.\n",
        "    output_str += array_of_strings[i]+\" \"\n",
        "# Print the resultant output.\n",
        "print(output_str)"
      ],
      "metadata": {
        "colab": {
          "base_uri": "https://localhost:8080/"
        },
        "id": "wqZCKdhPKFKs",
        "outputId": "70e33d33-ca7e-497b-a898-cea85dbb17ca"
      },
      "execution_count": 5,
      "outputs": [
        {
          "output_type": "stream",
          "name": "stdout",
          "text": [
            "Please enter the sentence: I love playing with python\n",
            "I love playing with pythons \n"
          ]
        }
      ]
    },
    {
      "cell_type": "code",
      "source": [
        "#Question 3.\n",
        "\n",
        "# Get the class score as input from user.\n",
        "class_score = float(input(\"Please, Enter the class score: \"))\n",
        "\n",
        "# Checks the class score and assign the respective grade\n",
        "if(class_score>=90 and class_score<=100):\n",
        "    print(\"Grade A\")\n",
        "elif(class_score>=80 and class_score<90):\n",
        "    print(\"Grade B\")\n",
        "elif(class_score>=70 and class_score<80):\n",
        "    print(\"Grade C\")\n",
        "elif(class_score>=60 and class_score<70):\n",
        "    print(\"Grade D\")\n",
        "elif(class_score>=0 and class_score<60):\n",
        "    print(\"Grade F\")\n",
        "else:\n",
        "    # Handles the case when class score given is invalid.\n",
        "    print(\"Please enter a valid score\")"
      ],
      "metadata": {
        "colab": {
          "base_uri": "https://localhost:8080/"
        },
        "id": "3pP-R42NKd8B",
        "outputId": "af8430aa-7fe5-401a-c62e-cbaf0b4a7044"
      },
      "execution_count": 6,
      "outputs": [
        {
          "output_type": "stream",
          "name": "stdout",
          "text": [
            "Please, Enter the class score: 65\n",
            "Grade D\n"
          ]
        }
      ]
    }
  ]
}